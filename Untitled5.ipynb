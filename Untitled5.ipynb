{
  "nbformat": 4,
  "nbformat_minor": 0,
  "metadata": {
    "colab": {
      "provenance": [],
      "include_colab_link": true
    },
    "kernelspec": {
      "name": "python3",
      "display_name": "Python 3"
    },
    "language_info": {
      "name": "python"
    }
  },
  "cells": [
    {
      "cell_type": "markdown",
      "metadata": {
        "id": "view-in-github",
        "colab_type": "text"
      },
      "source": [
        "<a href=\"https://colab.research.google.com/github/yogesherla2/DataScienceProject-23032935/blob/main/Untitled5.ipynb\" target=\"_parent\"><img src=\"https://colab.research.google.com/assets/colab-badge.svg\" alt=\"Open In Colab\"/></a>"
      ]
    },
    {
      "cell_type": "code",
      "execution_count": 3,
      "metadata": {
        "id": "nR7lCRPnjOze"
      },
      "outputs": [],
      "source": [
        "# Import necessary libraries\n",
        "import pandas as pd\n",
        "import numpy as np\n",
        "import matplotlib.pyplot as plt\n",
        "import seaborn as sns\n",
        "import warnings\n",
        "\n",
        "# Ignore warnings\n",
        "warnings.filterwarnings(\"ignore\")"
      ]
    },
    {
      "cell_type": "code",
      "source": [
        "from google.colab import drive\n",
        "drive.mount('/content/drive')"
      ],
      "metadata": {
        "colab": {
          "base_uri": "https://localhost:8080/",
          "height": 0
        },
        "id": "97PKIJi3jUsg",
        "outputId": "d9fa9eb5-4e38-42de-e965-f155d2cc979b"
      },
      "execution_count": 2,
      "outputs": [
        {
          "output_type": "stream",
          "name": "stdout",
          "text": [
            "Mounted at /content/drive\n"
          ]
        }
      ]
    },
    {
      "cell_type": "code",
      "source": [
        "file_path = \"/content/drive/My Drive/US_Accidents_March23.csv\"\n",
        "\n",
        "# Load only required columns\n",
        "columns_to_load = [\"ID\", \"End_Time\", \"Start_Time\", \"Sunrise_Sunset\", \"Visibility(mi)\",\n",
        "                   \"Precipitation(in)\", \"Wind_Speed(mph)\", \"Severity\", \"Temperature(F)\",\n",
        "                   \"Humidity(%)\", \"Weather_Condition\"]\n",
        "\n",
        "# Load a fraction of data\n",
        "sample_fraction = 0.01\n",
        "\n",
        "data = pd.read_csv(file_path, usecols=columns_to_load)\n",
        "# Randomly select rows\n",
        "data = data.sample(frac=sample_fraction, random_state=42)\n",
        "\n",
        "print(\"Reduced Dataset Shape:\", data.shape)\n",
        "data.head()\n"
      ],
      "metadata": {
        "colab": {
          "base_uri": "https://localhost:8080/",
          "height": 330
        },
        "id": "ztFnn0dZeocM",
        "outputId": "fd07a236-4932-4ae8-fac7-eb910a8211a5"
      },
      "execution_count": null,
      "outputs": [
        {
          "output_type": "stream",
          "name": "stdout",
          "text": [
            "Reduced Dataset Shape: (77284, 11)\n"
          ]
        },
        {
          "output_type": "execute_result",
          "data": {
            "text/plain": [
              "                ID  Severity                     Start_Time  \\\n",
              "7133276  A-7182628         1            2020-04-17 09:29:30   \n",
              "5363845  A-5404588         2  2022-04-21 10:01:00.000000000   \n",
              "155993    A-156000         3            2016-08-12 16:45:00   \n",
              "1861414  A-1871277         3            2019-09-20 15:22:16   \n",
              "2021359  A-2031222         2            2019-06-03 16:55:43   \n",
              "\n",
              "                              End_Time  Temperature(F)  Humidity(%)  \\\n",
              "7133276            2020-04-17 10:29:30            78.0         81.0   \n",
              "5363845  2022-04-21 11:44:08.000000000            55.0         88.0   \n",
              "155993             2016-08-12 17:15:00            91.0         47.0   \n",
              "1861414            2019-09-20 15:56:00            67.0         84.0   \n",
              "2021359            2019-06-03 18:12:09            95.0         16.0   \n",
              "\n",
              "         Visibility(mi)  Wind_Speed(mph)  Precipitation(in) Weather_Condition  \\\n",
              "7133276            10.0             13.0               0.01     Mostly Cloudy   \n",
              "5363845            10.0              9.0               0.00     Mostly Cloudy   \n",
              "155993             10.0             10.4                NaN     Partly Cloudy   \n",
              "1861414            10.0              3.0               0.00            Cloudy   \n",
              "2021359            10.0              6.0               0.00              Fair   \n",
              "\n",
              "        Sunrise_Sunset  \n",
              "7133276            Day  \n",
              "5363845            Day  \n",
              "155993             Day  \n",
              "1861414            Day  \n",
              "2021359            Day  "
            ],
            "text/html": [
              "\n",
              "  <div id=\"df-7d792608-af31-4e68-9da7-7a375261cc5e\" class=\"colab-df-container\">\n",
              "    <div>\n",
              "<style scoped>\n",
              "    .dataframe tbody tr th:only-of-type {\n",
              "        vertical-align: middle;\n",
              "    }\n",
              "\n",
              "    .dataframe tbody tr th {\n",
              "        vertical-align: top;\n",
              "    }\n",
              "\n",
              "    .dataframe thead th {\n",
              "        text-align: right;\n",
              "    }\n",
              "</style>\n",
              "<table border=\"1\" class=\"dataframe\">\n",
              "  <thead>\n",
              "    <tr style=\"text-align: right;\">\n",
              "      <th></th>\n",
              "      <th>ID</th>\n",
              "      <th>Severity</th>\n",
              "      <th>Start_Time</th>\n",
              "      <th>End_Time</th>\n",
              "      <th>Temperature(F)</th>\n",
              "      <th>Humidity(%)</th>\n",
              "      <th>Visibility(mi)</th>\n",
              "      <th>Wind_Speed(mph)</th>\n",
              "      <th>Precipitation(in)</th>\n",
              "      <th>Weather_Condition</th>\n",
              "      <th>Sunrise_Sunset</th>\n",
              "    </tr>\n",
              "  </thead>\n",
              "  <tbody>\n",
              "    <tr>\n",
              "      <th>7133276</th>\n",
              "      <td>A-7182628</td>\n",
              "      <td>1</td>\n",
              "      <td>2020-04-17 09:29:30</td>\n",
              "      <td>2020-04-17 10:29:30</td>\n",
              "      <td>78.0</td>\n",
              "      <td>81.0</td>\n",
              "      <td>10.0</td>\n",
              "      <td>13.0</td>\n",
              "      <td>0.01</td>\n",
              "      <td>Mostly Cloudy</td>\n",
              "      <td>Day</td>\n",
              "    </tr>\n",
              "    <tr>\n",
              "      <th>5363845</th>\n",
              "      <td>A-5404588</td>\n",
              "      <td>2</td>\n",
              "      <td>2022-04-21 10:01:00.000000000</td>\n",
              "      <td>2022-04-21 11:44:08.000000000</td>\n",
              "      <td>55.0</td>\n",
              "      <td>88.0</td>\n",
              "      <td>10.0</td>\n",
              "      <td>9.0</td>\n",
              "      <td>0.00</td>\n",
              "      <td>Mostly Cloudy</td>\n",
              "      <td>Day</td>\n",
              "    </tr>\n",
              "    <tr>\n",
              "      <th>155993</th>\n",
              "      <td>A-156000</td>\n",
              "      <td>3</td>\n",
              "      <td>2016-08-12 16:45:00</td>\n",
              "      <td>2016-08-12 17:15:00</td>\n",
              "      <td>91.0</td>\n",
              "      <td>47.0</td>\n",
              "      <td>10.0</td>\n",
              "      <td>10.4</td>\n",
              "      <td>NaN</td>\n",
              "      <td>Partly Cloudy</td>\n",
              "      <td>Day</td>\n",
              "    </tr>\n",
              "    <tr>\n",
              "      <th>1861414</th>\n",
              "      <td>A-1871277</td>\n",
              "      <td>3</td>\n",
              "      <td>2019-09-20 15:22:16</td>\n",
              "      <td>2019-09-20 15:56:00</td>\n",
              "      <td>67.0</td>\n",
              "      <td>84.0</td>\n",
              "      <td>10.0</td>\n",
              "      <td>3.0</td>\n",
              "      <td>0.00</td>\n",
              "      <td>Cloudy</td>\n",
              "      <td>Day</td>\n",
              "    </tr>\n",
              "    <tr>\n",
              "      <th>2021359</th>\n",
              "      <td>A-2031222</td>\n",
              "      <td>2</td>\n",
              "      <td>2019-06-03 16:55:43</td>\n",
              "      <td>2019-06-03 18:12:09</td>\n",
              "      <td>95.0</td>\n",
              "      <td>16.0</td>\n",
              "      <td>10.0</td>\n",
              "      <td>6.0</td>\n",
              "      <td>0.00</td>\n",
              "      <td>Fair</td>\n",
              "      <td>Day</td>\n",
              "    </tr>\n",
              "  </tbody>\n",
              "</table>\n",
              "</div>\n",
              "    <div class=\"colab-df-buttons\">\n",
              "\n",
              "  <div class=\"colab-df-container\">\n",
              "    <button class=\"colab-df-convert\" onclick=\"convertToInteractive('df-7d792608-af31-4e68-9da7-7a375261cc5e')\"\n",
              "            title=\"Convert this dataframe to an interactive table.\"\n",
              "            style=\"display:none;\">\n",
              "\n",
              "  <svg xmlns=\"http://www.w3.org/2000/svg\" height=\"24px\" viewBox=\"0 -960 960 960\">\n",
              "    <path d=\"M120-120v-720h720v720H120Zm60-500h600v-160H180v160Zm220 220h160v-160H400v160Zm0 220h160v-160H400v160ZM180-400h160v-160H180v160Zm440 0h160v-160H620v160ZM180-180h160v-160H180v160Zm440 0h160v-160H620v160Z\"/>\n",
              "  </svg>\n",
              "    </button>\n",
              "\n",
              "  <style>\n",
              "    .colab-df-container {\n",
              "      display:flex;\n",
              "      gap: 12px;\n",
              "    }\n",
              "\n",
              "    .colab-df-convert {\n",
              "      background-color: #E8F0FE;\n",
              "      border: none;\n",
              "      border-radius: 50%;\n",
              "      cursor: pointer;\n",
              "      display: none;\n",
              "      fill: #1967D2;\n",
              "      height: 32px;\n",
              "      padding: 0 0 0 0;\n",
              "      width: 32px;\n",
              "    }\n",
              "\n",
              "    .colab-df-convert:hover {\n",
              "      background-color: #E2EBFA;\n",
              "      box-shadow: 0px 1px 2px rgba(60, 64, 67, 0.3), 0px 1px 3px 1px rgba(60, 64, 67, 0.15);\n",
              "      fill: #174EA6;\n",
              "    }\n",
              "\n",
              "    .colab-df-buttons div {\n",
              "      margin-bottom: 4px;\n",
              "    }\n",
              "\n",
              "    [theme=dark] .colab-df-convert {\n",
              "      background-color: #3B4455;\n",
              "      fill: #D2E3FC;\n",
              "    }\n",
              "\n",
              "    [theme=dark] .colab-df-convert:hover {\n",
              "      background-color: #434B5C;\n",
              "      box-shadow: 0px 1px 3px 1px rgba(0, 0, 0, 0.15);\n",
              "      filter: drop-shadow(0px 1px 2px rgba(0, 0, 0, 0.3));\n",
              "      fill: #FFFFFF;\n",
              "    }\n",
              "  </style>\n",
              "\n",
              "    <script>\n",
              "      const buttonEl =\n",
              "        document.querySelector('#df-7d792608-af31-4e68-9da7-7a375261cc5e button.colab-df-convert');\n",
              "      buttonEl.style.display =\n",
              "        google.colab.kernel.accessAllowed ? 'block' : 'none';\n",
              "\n",
              "      async function convertToInteractive(key) {\n",
              "        const element = document.querySelector('#df-7d792608-af31-4e68-9da7-7a375261cc5e');\n",
              "        const dataTable =\n",
              "          await google.colab.kernel.invokeFunction('convertToInteractive',\n",
              "                                                    [key], {});\n",
              "        if (!dataTable) return;\n",
              "\n",
              "        const docLinkHtml = 'Like what you see? Visit the ' +\n",
              "          '<a target=\"_blank\" href=https://colab.research.google.com/notebooks/data_table.ipynb>data table notebook</a>'\n",
              "          + ' to learn more about interactive tables.';\n",
              "        element.innerHTML = '';\n",
              "        dataTable['output_type'] = 'display_data';\n",
              "        await google.colab.output.renderOutput(dataTable, element);\n",
              "        const docLink = document.createElement('div');\n",
              "        docLink.innerHTML = docLinkHtml;\n",
              "        element.appendChild(docLink);\n",
              "      }\n",
              "    </script>\n",
              "  </div>\n",
              "\n",
              "\n",
              "<div id=\"df-30ee269d-4f3a-430b-85b0-a72d8418c0f7\">\n",
              "  <button class=\"colab-df-quickchart\" onclick=\"quickchart('df-30ee269d-4f3a-430b-85b0-a72d8418c0f7')\"\n",
              "            title=\"Suggest charts\"\n",
              "            style=\"display:none;\">\n",
              "\n",
              "<svg xmlns=\"http://www.w3.org/2000/svg\" height=\"24px\"viewBox=\"0 0 24 24\"\n",
              "     width=\"24px\">\n",
              "    <g>\n",
              "        <path d=\"M19 3H5c-1.1 0-2 .9-2 2v14c0 1.1.9 2 2 2h14c1.1 0 2-.9 2-2V5c0-1.1-.9-2-2-2zM9 17H7v-7h2v7zm4 0h-2V7h2v10zm4 0h-2v-4h2v4z\"/>\n",
              "    </g>\n",
              "</svg>\n",
              "  </button>\n",
              "\n",
              "<style>\n",
              "  .colab-df-quickchart {\n",
              "      --bg-color: #E8F0FE;\n",
              "      --fill-color: #1967D2;\n",
              "      --hover-bg-color: #E2EBFA;\n",
              "      --hover-fill-color: #174EA6;\n",
              "      --disabled-fill-color: #AAA;\n",
              "      --disabled-bg-color: #DDD;\n",
              "  }\n",
              "\n",
              "  [theme=dark] .colab-df-quickchart {\n",
              "      --bg-color: #3B4455;\n",
              "      --fill-color: #D2E3FC;\n",
              "      --hover-bg-color: #434B5C;\n",
              "      --hover-fill-color: #FFFFFF;\n",
              "      --disabled-bg-color: #3B4455;\n",
              "      --disabled-fill-color: #666;\n",
              "  }\n",
              "\n",
              "  .colab-df-quickchart {\n",
              "    background-color: var(--bg-color);\n",
              "    border: none;\n",
              "    border-radius: 50%;\n",
              "    cursor: pointer;\n",
              "    display: none;\n",
              "    fill: var(--fill-color);\n",
              "    height: 32px;\n",
              "    padding: 0;\n",
              "    width: 32px;\n",
              "  }\n",
              "\n",
              "  .colab-df-quickchart:hover {\n",
              "    background-color: var(--hover-bg-color);\n",
              "    box-shadow: 0 1px 2px rgba(60, 64, 67, 0.3), 0 1px 3px 1px rgba(60, 64, 67, 0.15);\n",
              "    fill: var(--button-hover-fill-color);\n",
              "  }\n",
              "\n",
              "  .colab-df-quickchart-complete:disabled,\n",
              "  .colab-df-quickchart-complete:disabled:hover {\n",
              "    background-color: var(--disabled-bg-color);\n",
              "    fill: var(--disabled-fill-color);\n",
              "    box-shadow: none;\n",
              "  }\n",
              "\n",
              "  .colab-df-spinner {\n",
              "    border: 2px solid var(--fill-color);\n",
              "    border-color: transparent;\n",
              "    border-bottom-color: var(--fill-color);\n",
              "    animation:\n",
              "      spin 1s steps(1) infinite;\n",
              "  }\n",
              "\n",
              "  @keyframes spin {\n",
              "    0% {\n",
              "      border-color: transparent;\n",
              "      border-bottom-color: var(--fill-color);\n",
              "      border-left-color: var(--fill-color);\n",
              "    }\n",
              "    20% {\n",
              "      border-color: transparent;\n",
              "      border-left-color: var(--fill-color);\n",
              "      border-top-color: var(--fill-color);\n",
              "    }\n",
              "    30% {\n",
              "      border-color: transparent;\n",
              "      border-left-color: var(--fill-color);\n",
              "      border-top-color: var(--fill-color);\n",
              "      border-right-color: var(--fill-color);\n",
              "    }\n",
              "    40% {\n",
              "      border-color: transparent;\n",
              "      border-right-color: var(--fill-color);\n",
              "      border-top-color: var(--fill-color);\n",
              "    }\n",
              "    60% {\n",
              "      border-color: transparent;\n",
              "      border-right-color: var(--fill-color);\n",
              "    }\n",
              "    80% {\n",
              "      border-color: transparent;\n",
              "      border-right-color: var(--fill-color);\n",
              "      border-bottom-color: var(--fill-color);\n",
              "    }\n",
              "    90% {\n",
              "      border-color: transparent;\n",
              "      border-bottom-color: var(--fill-color);\n",
              "    }\n",
              "  }\n",
              "</style>\n",
              "\n",
              "  <script>\n",
              "    async function quickchart(key) {\n",
              "      const quickchartButtonEl =\n",
              "        document.querySelector('#' + key + ' button');\n",
              "      quickchartButtonEl.disabled = true;  // To prevent multiple clicks.\n",
              "      quickchartButtonEl.classList.add('colab-df-spinner');\n",
              "      try {\n",
              "        const charts = await google.colab.kernel.invokeFunction(\n",
              "            'suggestCharts', [key], {});\n",
              "      } catch (error) {\n",
              "        console.error('Error during call to suggestCharts:', error);\n",
              "      }\n",
              "      quickchartButtonEl.classList.remove('colab-df-spinner');\n",
              "      quickchartButtonEl.classList.add('colab-df-quickchart-complete');\n",
              "    }\n",
              "    (() => {\n",
              "      let quickchartButtonEl =\n",
              "        document.querySelector('#df-30ee269d-4f3a-430b-85b0-a72d8418c0f7 button');\n",
              "      quickchartButtonEl.style.display =\n",
              "        google.colab.kernel.accessAllowed ? 'block' : 'none';\n",
              "    })();\n",
              "  </script>\n",
              "</div>\n",
              "\n",
              "    </div>\n",
              "  </div>\n"
            ],
            "application/vnd.google.colaboratory.intrinsic+json": {
              "type": "dataframe",
              "variable_name": "data",
              "summary": "{\n  \"name\": \"data\",\n  \"rows\": 77284,\n  \"fields\": [\n    {\n      \"column\": \"ID\",\n      \"properties\": {\n        \"dtype\": \"string\",\n        \"num_unique_values\": 77284,\n        \"samples\": [\n          \"A-2676493\",\n          \"A-2491118\",\n          \"A-4150255\"\n        ],\n        \"semantic_type\": \"\",\n        \"description\": \"\"\n      }\n    },\n    {\n      \"column\": \"Severity\",\n      \"properties\": {\n        \"dtype\": \"number\",\n        \"std\": 0,\n        \"min\": 1,\n        \"max\": 4,\n        \"num_unique_values\": 4,\n        \"samples\": [\n          2,\n          4,\n          1\n        ],\n        \"semantic_type\": \"\",\n        \"description\": \"\"\n      }\n    },\n    {\n      \"column\": \"Start_Time\",\n      \"properties\": {\n        \"dtype\": \"string\",\n        \"num_unique_values\": 76914,\n        \"samples\": [\n          \"2022-11-09 17:28:00\",\n          \"2021-09-20 07:43:00\",\n          \"2018-05-28 15:56:26\"\n        ],\n        \"semantic_type\": \"\",\n        \"description\": \"\"\n      }\n    },\n    {\n      \"column\": \"End_Time\",\n      \"properties\": {\n        \"dtype\": \"string\",\n        \"num_unique_values\": 77110,\n        \"samples\": [\n          \"2019-09-26 09:42:29\",\n          \"2020-11-04 03:02:40\",\n          \"2019-04-05 15:38:33\"\n        ],\n        \"semantic_type\": \"\",\n        \"description\": \"\"\n      }\n    },\n    {\n      \"column\": \"Temperature(F)\",\n      \"properties\": {\n        \"dtype\": \"number\",\n        \"std\": 19.11755301292438,\n        \"min\": -89.0,\n        \"max\": 162.0,\n        \"num_unique_values\": 580,\n        \"samples\": [\n          90.3,\n          82.8,\n          77.2\n        ],\n        \"semantic_type\": \"\",\n        \"description\": \"\"\n      }\n    },\n    {\n      \"column\": \"Humidity(%)\",\n      \"properties\": {\n        \"dtype\": \"number\",\n        \"std\": 22.81167587282518,\n        \"min\": 2.0,\n        \"max\": 100.0,\n        \"num_unique_values\": 99,\n        \"samples\": [\n          51.0,\n          94.0,\n          5.0\n        ],\n        \"semantic_type\": \"\",\n        \"description\": \"\"\n      }\n    },\n    {\n      \"column\": \"Visibility(mi)\",\n      \"properties\": {\n        \"dtype\": \"number\",\n        \"std\": 2.70236055252985,\n        \"min\": 0.0,\n        \"max\": 80.0,\n        \"num_unique_values\": 48,\n        \"samples\": [\n          70.0,\n          25.0,\n          2.8\n        ],\n        \"semantic_type\": \"\",\n        \"description\": \"\"\n      }\n    },\n    {\n      \"column\": \"Wind_Speed(mph)\",\n      \"properties\": {\n        \"dtype\": \"number\",\n        \"std\": 6.1255879667502064,\n        \"min\": 0.0,\n        \"max\": 822.8,\n        \"num_unique_values\": 71,\n        \"samples\": [\n          12.7,\n          13.0,\n          29.0\n        ],\n        \"semantic_type\": \"\",\n        \"description\": \"\"\n      }\n    },\n    {\n      \"column\": \"Precipitation(in)\",\n      \"properties\": {\n        \"dtype\": \"number\",\n        \"std\": 0.08594933301406744,\n        \"min\": 0.0,\n        \"max\": 10.0,\n        \"num_unique_values\": 99,\n        \"samples\": [\n          0.9,\n          0.58,\n          0.84\n        ],\n        \"semantic_type\": \"\",\n        \"description\": \"\"\n      }\n    },\n    {\n      \"column\": \"Weather_Condition\",\n      \"properties\": {\n        \"dtype\": \"category\",\n        \"num_unique_values\": 74,\n        \"samples\": [\n          \"Light Snow / Windy\",\n          \"Thunder / Windy\",\n          \"Patches of Fog\"\n        ],\n        \"semantic_type\": \"\",\n        \"description\": \"\"\n      }\n    },\n    {\n      \"column\": \"Sunrise_Sunset\",\n      \"properties\": {\n        \"dtype\": \"category\",\n        \"num_unique_values\": 2,\n        \"samples\": [\n          \"Night\",\n          \"Day\"\n        ],\n        \"semantic_type\": \"\",\n        \"description\": \"\"\n      }\n    }\n  ]\n}"
            }
          },
          "metadata": {},
          "execution_count": 117
        }
      ]
    },
    {
      "cell_type": "code",
      "source": [
        "# Display the shape of the dataset\n",
        "data.shape"
      ],
      "metadata": {
        "colab": {
          "base_uri": "https://localhost:8080/"
        },
        "id": "R79CvSvDmn4W",
        "outputId": "f47791c8-797e-4bbc-b80f-cbc251e0e832"
      },
      "execution_count": null,
      "outputs": [
        {
          "output_type": "execute_result",
          "data": {
            "text/plain": [
              "(77284, 11)"
            ]
          },
          "metadata": {},
          "execution_count": 118
        }
      ]
    },
    {
      "cell_type": "code",
      "source": [
        "# Display the names of all columns in the dataset\n",
        "data.columns"
      ],
      "metadata": {
        "colab": {
          "base_uri": "https://localhost:8080/"
        },
        "id": "t4_e9HxMm-kU",
        "outputId": "6d5cdd23-b57e-4a6e-b649-938e06a3f0be"
      },
      "execution_count": null,
      "outputs": [
        {
          "output_type": "execute_result",
          "data": {
            "text/plain": [
              "Index(['ID', 'Severity', 'Start_Time', 'End_Time', 'Temperature(F)',\n",
              "       'Humidity(%)', 'Visibility(mi)', 'Wind_Speed(mph)', 'Precipitation(in)',\n",
              "       'Weather_Condition', 'Sunrise_Sunset'],\n",
              "      dtype='object')"
            ]
          },
          "metadata": {},
          "execution_count": 119
        }
      ]
    },
    {
      "cell_type": "code",
      "source": [
        "# Check if any missing values\n",
        "print(data.isnull().sum())"
      ],
      "metadata": {
        "colab": {
          "base_uri": "https://localhost:8080/"
        },
        "id": "FIyeUpl7v_bO",
        "outputId": "288a3728-bd26-4fb2-e7b1-d0fd501b2ba8"
      },
      "execution_count": null,
      "outputs": [
        {
          "output_type": "stream",
          "name": "stdout",
          "text": [
            "ID                       0\n",
            "Severity                 0\n",
            "Start_Time               0\n",
            "End_Time                 0\n",
            "Temperature(F)        1612\n",
            "Humidity(%)           1715\n",
            "Visibility(mi)        1746\n",
            "Wind_Speed(mph)       5771\n",
            "Precipitation(in)    22095\n",
            "Weather_Condition     1699\n",
            "Sunrise_Sunset         252\n",
            "dtype: int64\n"
          ]
        }
      ]
    },
    {
      "cell_type": "code",
      "source": [
        "\n",
        "# Print original row count\n",
        "print(\"Original Rows:\", len(data))\n",
        "\n",
        "# Fill missing values properly\n",
        "data['Temperature(F)'] = data['Temperature(F)'].fillna(data['Temperature(F)'].median())\n",
        "data['Humidity(%)'] = data['Humidity(%)'].fillna(data['Humidity(%)'].median())\n",
        "data['Visibility(mi)'] = data['Visibility(mi)'].fillna(data['Visibility(mi)'].median())\n",
        "data['Wind_Speed(mph)'] = data['Wind_Speed(mph)'].fillna(data['Wind_Speed(mph)'].mean())\n",
        "data['Precipitation(in)'] = data['Precipitation(in)'].fillna(0)\n",
        "\n",
        "data['Weather_Condition'] = data['Weather_Condition'].fillna(data['Weather_Condition'].mode()[0])\n",
        "data['Sunrise_Sunset'] = data['Sunrise_Sunset'].fillna(data['Sunrise_Sunset'].mode()[0])\n",
        "\n",
        "# Print new row count to ensure no rows were removed\n",
        "print(\"After Cleaning Rows:\", len(data))\n"
      ],
      "metadata": {
        "colab": {
          "base_uri": "https://localhost:8080/"
        },
        "id": "PhPbL79_wijf",
        "outputId": "cb9dbf08-60b6-4302-b818-93bcc37db171"
      },
      "execution_count": null,
      "outputs": [
        {
          "output_type": "stream",
          "name": "stdout",
          "text": [
            "Original Rows: 77284\n",
            "After Cleaning Rows: 77284\n"
          ]
        }
      ]
    },
    {
      "cell_type": "code",
      "source": [
        "# Check if any missing values remain\n",
        "print(data.isnull().sum())"
      ],
      "metadata": {
        "colab": {
          "base_uri": "https://localhost:8080/"
        },
        "id": "7qOBx_XpwuAN",
        "outputId": "547bcd5a-39bb-44da-d69d-c13ccbcf4583"
      },
      "execution_count": null,
      "outputs": [
        {
          "output_type": "stream",
          "name": "stdout",
          "text": [
            "ID                   0\n",
            "Severity             0\n",
            "Start_Time           0\n",
            "End_Time             0\n",
            "Temperature(F)       0\n",
            "Humidity(%)          0\n",
            "Visibility(mi)       0\n",
            "Wind_Speed(mph)      0\n",
            "Precipitation(in)    0\n",
            "Weather_Condition    0\n",
            "Sunrise_Sunset       0\n",
            "dtype: int64\n"
          ]
        }
      ]
    },
    {
      "cell_type": "code",
      "source": [
        "# Generate summary statistics for numerical columns in the dataset\n",
        "data.describe()"
      ],
      "metadata": {
        "colab": {
          "base_uri": "https://localhost:8080/",
          "height": 300
        },
        "id": "lplbs6_4ndWa",
        "outputId": "95a83917-883e-43c2-9866-7668b6443c2a"
      },
      "execution_count": null,
      "outputs": [
        {
          "output_type": "execute_result",
          "data": {
            "text/plain": [
              "           Severity  Temperature(F)   Humidity(%)  Visibility(mi)  \\\n",
              "count  77284.000000    77284.000000  77284.000000    77284.000000   \n",
              "mean       2.212968       61.494476     64.948760        9.101512   \n",
              "std        0.487646       18.920656     22.559264        2.675150   \n",
              "min        1.000000      -89.000000      2.000000        0.000000   \n",
              "25%        2.000000       49.000000     49.000000       10.000000   \n",
              "50%        2.000000       64.000000     67.000000       10.000000   \n",
              "75%        2.000000       75.900000     84.000000       10.000000   \n",
              "max        4.000000      162.000000    100.000000       80.000000   \n",
              "\n",
              "       Wind_Speed(mph)  Precipitation(in)  \n",
              "count     77284.000000       77284.000000  \n",
              "mean          7.683860           0.005593  \n",
              "std           5.892441           0.072717  \n",
              "min           0.000000           0.000000  \n",
              "25%           5.000000           0.000000  \n",
              "50%           7.683860           0.000000  \n",
              "75%          10.000000           0.000000  \n",
              "max         822.800000          10.000000  "
            ],
            "text/html": [
              "\n",
              "  <div id=\"df-7d412d36-f899-4ce9-bf7d-6bdc49bf28b5\" class=\"colab-df-container\">\n",
              "    <div>\n",
              "<style scoped>\n",
              "    .dataframe tbody tr th:only-of-type {\n",
              "        vertical-align: middle;\n",
              "    }\n",
              "\n",
              "    .dataframe tbody tr th {\n",
              "        vertical-align: top;\n",
              "    }\n",
              "\n",
              "    .dataframe thead th {\n",
              "        text-align: right;\n",
              "    }\n",
              "</style>\n",
              "<table border=\"1\" class=\"dataframe\">\n",
              "  <thead>\n",
              "    <tr style=\"text-align: right;\">\n",
              "      <th></th>\n",
              "      <th>Severity</th>\n",
              "      <th>Temperature(F)</th>\n",
              "      <th>Humidity(%)</th>\n",
              "      <th>Visibility(mi)</th>\n",
              "      <th>Wind_Speed(mph)</th>\n",
              "      <th>Precipitation(in)</th>\n",
              "    </tr>\n",
              "  </thead>\n",
              "  <tbody>\n",
              "    <tr>\n",
              "      <th>count</th>\n",
              "      <td>77284.000000</td>\n",
              "      <td>77284.000000</td>\n",
              "      <td>77284.000000</td>\n",
              "      <td>77284.000000</td>\n",
              "      <td>77284.000000</td>\n",
              "      <td>77284.000000</td>\n",
              "    </tr>\n",
              "    <tr>\n",
              "      <th>mean</th>\n",
              "      <td>2.212968</td>\n",
              "      <td>61.494476</td>\n",
              "      <td>64.948760</td>\n",
              "      <td>9.101512</td>\n",
              "      <td>7.683860</td>\n",
              "      <td>0.005593</td>\n",
              "    </tr>\n",
              "    <tr>\n",
              "      <th>std</th>\n",
              "      <td>0.487646</td>\n",
              "      <td>18.920656</td>\n",
              "      <td>22.559264</td>\n",
              "      <td>2.675150</td>\n",
              "      <td>5.892441</td>\n",
              "      <td>0.072717</td>\n",
              "    </tr>\n",
              "    <tr>\n",
              "      <th>min</th>\n",
              "      <td>1.000000</td>\n",
              "      <td>-89.000000</td>\n",
              "      <td>2.000000</td>\n",
              "      <td>0.000000</td>\n",
              "      <td>0.000000</td>\n",
              "      <td>0.000000</td>\n",
              "    </tr>\n",
              "    <tr>\n",
              "      <th>25%</th>\n",
              "      <td>2.000000</td>\n",
              "      <td>49.000000</td>\n",
              "      <td>49.000000</td>\n",
              "      <td>10.000000</td>\n",
              "      <td>5.000000</td>\n",
              "      <td>0.000000</td>\n",
              "    </tr>\n",
              "    <tr>\n",
              "      <th>50%</th>\n",
              "      <td>2.000000</td>\n",
              "      <td>64.000000</td>\n",
              "      <td>67.000000</td>\n",
              "      <td>10.000000</td>\n",
              "      <td>7.683860</td>\n",
              "      <td>0.000000</td>\n",
              "    </tr>\n",
              "    <tr>\n",
              "      <th>75%</th>\n",
              "      <td>2.000000</td>\n",
              "      <td>75.900000</td>\n",
              "      <td>84.000000</td>\n",
              "      <td>10.000000</td>\n",
              "      <td>10.000000</td>\n",
              "      <td>0.000000</td>\n",
              "    </tr>\n",
              "    <tr>\n",
              "      <th>max</th>\n",
              "      <td>4.000000</td>\n",
              "      <td>162.000000</td>\n",
              "      <td>100.000000</td>\n",
              "      <td>80.000000</td>\n",
              "      <td>822.800000</td>\n",
              "      <td>10.000000</td>\n",
              "    </tr>\n",
              "  </tbody>\n",
              "</table>\n",
              "</div>\n",
              "    <div class=\"colab-df-buttons\">\n",
              "\n",
              "  <div class=\"colab-df-container\">\n",
              "    <button class=\"colab-df-convert\" onclick=\"convertToInteractive('df-7d412d36-f899-4ce9-bf7d-6bdc49bf28b5')\"\n",
              "            title=\"Convert this dataframe to an interactive table.\"\n",
              "            style=\"display:none;\">\n",
              "\n",
              "  <svg xmlns=\"http://www.w3.org/2000/svg\" height=\"24px\" viewBox=\"0 -960 960 960\">\n",
              "    <path d=\"M120-120v-720h720v720H120Zm60-500h600v-160H180v160Zm220 220h160v-160H400v160Zm0 220h160v-160H400v160ZM180-400h160v-160H180v160Zm440 0h160v-160H620v160ZM180-180h160v-160H180v160Zm440 0h160v-160H620v160Z\"/>\n",
              "  </svg>\n",
              "    </button>\n",
              "\n",
              "  <style>\n",
              "    .colab-df-container {\n",
              "      display:flex;\n",
              "      gap: 12px;\n",
              "    }\n",
              "\n",
              "    .colab-df-convert {\n",
              "      background-color: #E8F0FE;\n",
              "      border: none;\n",
              "      border-radius: 50%;\n",
              "      cursor: pointer;\n",
              "      display: none;\n",
              "      fill: #1967D2;\n",
              "      height: 32px;\n",
              "      padding: 0 0 0 0;\n",
              "      width: 32px;\n",
              "    }\n",
              "\n",
              "    .colab-df-convert:hover {\n",
              "      background-color: #E2EBFA;\n",
              "      box-shadow: 0px 1px 2px rgba(60, 64, 67, 0.3), 0px 1px 3px 1px rgba(60, 64, 67, 0.15);\n",
              "      fill: #174EA6;\n",
              "    }\n",
              "\n",
              "    .colab-df-buttons div {\n",
              "      margin-bottom: 4px;\n",
              "    }\n",
              "\n",
              "    [theme=dark] .colab-df-convert {\n",
              "      background-color: #3B4455;\n",
              "      fill: #D2E3FC;\n",
              "    }\n",
              "\n",
              "    [theme=dark] .colab-df-convert:hover {\n",
              "      background-color: #434B5C;\n",
              "      box-shadow: 0px 1px 3px 1px rgba(0, 0, 0, 0.15);\n",
              "      filter: drop-shadow(0px 1px 2px rgba(0, 0, 0, 0.3));\n",
              "      fill: #FFFFFF;\n",
              "    }\n",
              "  </style>\n",
              "\n",
              "    <script>\n",
              "      const buttonEl =\n",
              "        document.querySelector('#df-7d412d36-f899-4ce9-bf7d-6bdc49bf28b5 button.colab-df-convert');\n",
              "      buttonEl.style.display =\n",
              "        google.colab.kernel.accessAllowed ? 'block' : 'none';\n",
              "\n",
              "      async function convertToInteractive(key) {\n",
              "        const element = document.querySelector('#df-7d412d36-f899-4ce9-bf7d-6bdc49bf28b5');\n",
              "        const dataTable =\n",
              "          await google.colab.kernel.invokeFunction('convertToInteractive',\n",
              "                                                    [key], {});\n",
              "        if (!dataTable) return;\n",
              "\n",
              "        const docLinkHtml = 'Like what you see? Visit the ' +\n",
              "          '<a target=\"_blank\" href=https://colab.research.google.com/notebooks/data_table.ipynb>data table notebook</a>'\n",
              "          + ' to learn more about interactive tables.';\n",
              "        element.innerHTML = '';\n",
              "        dataTable['output_type'] = 'display_data';\n",
              "        await google.colab.output.renderOutput(dataTable, element);\n",
              "        const docLink = document.createElement('div');\n",
              "        docLink.innerHTML = docLinkHtml;\n",
              "        element.appendChild(docLink);\n",
              "      }\n",
              "    </script>\n",
              "  </div>\n",
              "\n",
              "\n",
              "<div id=\"df-7fa48f57-b8db-4c14-9d36-63c14abdc0a8\">\n",
              "  <button class=\"colab-df-quickchart\" onclick=\"quickchart('df-7fa48f57-b8db-4c14-9d36-63c14abdc0a8')\"\n",
              "            title=\"Suggest charts\"\n",
              "            style=\"display:none;\">\n",
              "\n",
              "<svg xmlns=\"http://www.w3.org/2000/svg\" height=\"24px\"viewBox=\"0 0 24 24\"\n",
              "     width=\"24px\">\n",
              "    <g>\n",
              "        <path d=\"M19 3H5c-1.1 0-2 .9-2 2v14c0 1.1.9 2 2 2h14c1.1 0 2-.9 2-2V5c0-1.1-.9-2-2-2zM9 17H7v-7h2v7zm4 0h-2V7h2v10zm4 0h-2v-4h2v4z\"/>\n",
              "    </g>\n",
              "</svg>\n",
              "  </button>\n",
              "\n",
              "<style>\n",
              "  .colab-df-quickchart {\n",
              "      --bg-color: #E8F0FE;\n",
              "      --fill-color: #1967D2;\n",
              "      --hover-bg-color: #E2EBFA;\n",
              "      --hover-fill-color: #174EA6;\n",
              "      --disabled-fill-color: #AAA;\n",
              "      --disabled-bg-color: #DDD;\n",
              "  }\n",
              "\n",
              "  [theme=dark] .colab-df-quickchart {\n",
              "      --bg-color: #3B4455;\n",
              "      --fill-color: #D2E3FC;\n",
              "      --hover-bg-color: #434B5C;\n",
              "      --hover-fill-color: #FFFFFF;\n",
              "      --disabled-bg-color: #3B4455;\n",
              "      --disabled-fill-color: #666;\n",
              "  }\n",
              "\n",
              "  .colab-df-quickchart {\n",
              "    background-color: var(--bg-color);\n",
              "    border: none;\n",
              "    border-radius: 50%;\n",
              "    cursor: pointer;\n",
              "    display: none;\n",
              "    fill: var(--fill-color);\n",
              "    height: 32px;\n",
              "    padding: 0;\n",
              "    width: 32px;\n",
              "  }\n",
              "\n",
              "  .colab-df-quickchart:hover {\n",
              "    background-color: var(--hover-bg-color);\n",
              "    box-shadow: 0 1px 2px rgba(60, 64, 67, 0.3), 0 1px 3px 1px rgba(60, 64, 67, 0.15);\n",
              "    fill: var(--button-hover-fill-color);\n",
              "  }\n",
              "\n",
              "  .colab-df-quickchart-complete:disabled,\n",
              "  .colab-df-quickchart-complete:disabled:hover {\n",
              "    background-color: var(--disabled-bg-color);\n",
              "    fill: var(--disabled-fill-color);\n",
              "    box-shadow: none;\n",
              "  }\n",
              "\n",
              "  .colab-df-spinner {\n",
              "    border: 2px solid var(--fill-color);\n",
              "    border-color: transparent;\n",
              "    border-bottom-color: var(--fill-color);\n",
              "    animation:\n",
              "      spin 1s steps(1) infinite;\n",
              "  }\n",
              "\n",
              "  @keyframes spin {\n",
              "    0% {\n",
              "      border-color: transparent;\n",
              "      border-bottom-color: var(--fill-color);\n",
              "      border-left-color: var(--fill-color);\n",
              "    }\n",
              "    20% {\n",
              "      border-color: transparent;\n",
              "      border-left-color: var(--fill-color);\n",
              "      border-top-color: var(--fill-color);\n",
              "    }\n",
              "    30% {\n",
              "      border-color: transparent;\n",
              "      border-left-color: var(--fill-color);\n",
              "      border-top-color: var(--fill-color);\n",
              "      border-right-color: var(--fill-color);\n",
              "    }\n",
              "    40% {\n",
              "      border-color: transparent;\n",
              "      border-right-color: var(--fill-color);\n",
              "      border-top-color: var(--fill-color);\n",
              "    }\n",
              "    60% {\n",
              "      border-color: transparent;\n",
              "      border-right-color: var(--fill-color);\n",
              "    }\n",
              "    80% {\n",
              "      border-color: transparent;\n",
              "      border-right-color: var(--fill-color);\n",
              "      border-bottom-color: var(--fill-color);\n",
              "    }\n",
              "    90% {\n",
              "      border-color: transparent;\n",
              "      border-bottom-color: var(--fill-color);\n",
              "    }\n",
              "  }\n",
              "</style>\n",
              "\n",
              "  <script>\n",
              "    async function quickchart(key) {\n",
              "      const quickchartButtonEl =\n",
              "        document.querySelector('#' + key + ' button');\n",
              "      quickchartButtonEl.disabled = true;  // To prevent multiple clicks.\n",
              "      quickchartButtonEl.classList.add('colab-df-spinner');\n",
              "      try {\n",
              "        const charts = await google.colab.kernel.invokeFunction(\n",
              "            'suggestCharts', [key], {});\n",
              "      } catch (error) {\n",
              "        console.error('Error during call to suggestCharts:', error);\n",
              "      }\n",
              "      quickchartButtonEl.classList.remove('colab-df-spinner');\n",
              "      quickchartButtonEl.classList.add('colab-df-quickchart-complete');\n",
              "    }\n",
              "    (() => {\n",
              "      let quickchartButtonEl =\n",
              "        document.querySelector('#df-7fa48f57-b8db-4c14-9d36-63c14abdc0a8 button');\n",
              "      quickchartButtonEl.style.display =\n",
              "        google.colab.kernel.accessAllowed ? 'block' : 'none';\n",
              "    })();\n",
              "  </script>\n",
              "</div>\n",
              "\n",
              "    </div>\n",
              "  </div>\n"
            ],
            "application/vnd.google.colaboratory.intrinsic+json": {
              "type": "dataframe",
              "summary": "{\n  \"name\": \"data\",\n  \"rows\": 8,\n  \"fields\": [\n    {\n      \"column\": \"Severity\",\n      \"properties\": {\n        \"dtype\": \"number\",\n        \"std\": 27323.328272271727,\n        \"min\": 0.48764563998591653,\n        \"max\": 77284.0,\n        \"num_unique_values\": 6,\n        \"samples\": [\n          77284.0,\n          2.212967755292169,\n          4.0\n        ],\n        \"semantic_type\": \"\",\n        \"description\": \"\"\n      }\n    },\n    {\n      \"column\": \"Temperature(F)\",\n      \"properties\": {\n        \"dtype\": \"number\",\n        \"std\": 27306.819185609576,\n        \"min\": -89.0,\n        \"max\": 77284.0,\n        \"num_unique_values\": 8,\n        \"samples\": [\n          61.49447621758709,\n          64.0,\n          77284.0\n        ],\n        \"semantic_type\": \"\",\n        \"description\": \"\"\n      }\n    },\n    {\n      \"column\": \"Humidity(%)\",\n      \"properties\": {\n        \"dtype\": \"number\",\n        \"std\": 27304.36543372369,\n        \"min\": 2.0,\n        \"max\": 77284.0,\n        \"num_unique_values\": 8,\n        \"samples\": [\n          64.94876041612753,\n          67.0,\n          77284.0\n        ],\n        \"semantic_type\": \"\",\n        \"description\": \"\"\n      }\n    },\n    {\n      \"column\": \"Visibility(mi)\",\n      \"properties\": {\n        \"dtype\": \"number\",\n        \"std\": 27317.88180297064,\n        \"min\": 0.0,\n        \"max\": 77284.0,\n        \"num_unique_values\": 6,\n        \"samples\": [\n          77284.0,\n          9.101512473474457,\n          80.0\n        ],\n        \"semantic_type\": \"\",\n        \"description\": \"\"\n      }\n    },\n    {\n      \"column\": \"Wind_Speed(mph)\",\n      \"properties\": {\n        \"dtype\": \"number\",\n        \"std\": 27282.128378990354,\n        \"min\": 0.0,\n        \"max\": 77284.0,\n        \"num_unique_values\": 8,\n        \"samples\": [\n          7.683860277152406,\n          7.683860277152408,\n          77284.0\n        ],\n        \"semantic_type\": \"\",\n        \"description\": \"\"\n      }\n    },\n    {\n      \"column\": \"Precipitation(in)\",\n      \"properties\": {\n        \"dtype\": \"number\",\n        \"std\": 27323.511430569575,\n        \"min\": 0.0,\n        \"max\": 77284.0,\n        \"num_unique_values\": 5,\n        \"samples\": [\n          0.005593007608301848,\n          10.0,\n          0.0727173029411018\n        ],\n        \"semantic_type\": \"\",\n        \"description\": \"\"\n      }\n    }\n  ]\n}"
            }
          },
          "metadata": {},
          "execution_count": 123
        }
      ]
    },
    {
      "cell_type": "code",
      "source": [
        "# Count the occurrences of each unique value in the 'Severity' column\n",
        "data['Severity'].value_counts()"
      ],
      "metadata": {
        "colab": {
          "base_uri": "https://localhost:8080/",
          "height": 241
        },
        "id": "vY0A6FGJnqvv",
        "outputId": "b39334c3-9c42-427d-e5d0-62a9e20dc3ba"
      },
      "execution_count": null,
      "outputs": [
        {
          "output_type": "execute_result",
          "data": {
            "text/plain": [
              "Severity\n",
              "2    61572\n",
              "3    13000\n",
              "4     2057\n",
              "1      655\n",
              "Name: count, dtype: int64"
            ],
            "text/html": [
              "<div>\n",
              "<style scoped>\n",
              "    .dataframe tbody tr th:only-of-type {\n",
              "        vertical-align: middle;\n",
              "    }\n",
              "\n",
              "    .dataframe tbody tr th {\n",
              "        vertical-align: top;\n",
              "    }\n",
              "\n",
              "    .dataframe thead th {\n",
              "        text-align: right;\n",
              "    }\n",
              "</style>\n",
              "<table border=\"1\" class=\"dataframe\">\n",
              "  <thead>\n",
              "    <tr style=\"text-align: right;\">\n",
              "      <th></th>\n",
              "      <th>count</th>\n",
              "    </tr>\n",
              "    <tr>\n",
              "      <th>Severity</th>\n",
              "      <th></th>\n",
              "    </tr>\n",
              "  </thead>\n",
              "  <tbody>\n",
              "    <tr>\n",
              "      <th>2</th>\n",
              "      <td>61572</td>\n",
              "    </tr>\n",
              "    <tr>\n",
              "      <th>3</th>\n",
              "      <td>13000</td>\n",
              "    </tr>\n",
              "    <tr>\n",
              "      <th>4</th>\n",
              "      <td>2057</td>\n",
              "    </tr>\n",
              "    <tr>\n",
              "      <th>1</th>\n",
              "      <td>655</td>\n",
              "    </tr>\n",
              "  </tbody>\n",
              "</table>\n",
              "</div><br><label><b>dtype:</b> int64</label>"
            ]
          },
          "metadata": {},
          "execution_count": 124
        }
      ]
    },
    {
      "cell_type": "code",
      "source": [
        "# Calculate severity distribution\n",
        "severity_counts =data['Severity'].value_counts().sort_index()\n",
        "total_cases = len(data)\n",
        "severity_percentages = (severity_counts / total_cases) * 100\n",
        "\n",
        "# Create a DataFrame for visualization\n",
        "severity_summary = pd.DataFrame({\n",
        "    'Severity Level': severity_counts.index,\n",
        "    'Total Cases': severity_counts.values,\n",
        "    'Percentage (%)': severity_percentages.values\n",
        "})\n",
        "\n",
        "# Plot the severity distribution\n",
        "plt.figure(figsize=(8, 6))\n",
        "sns.barplot(data=severity_summary, x=\"Severity Level\", y=\"Total Cases\", palette=\"coolwarm\")\n",
        "\n",
        "# Add percentage annotations above bars\n",
        "for index, row in severity_summary.iterrows():\n",
        "    plt.text(index, row['Total Cases'] + total_cases * 0.01,\n",
        "             f\"{row['Percentage (%)']:.2f}%\", ha='center', fontsize=11, fontweight='bold')\n",
        "\n",
        "# Format y-axis with thousands separator\n",
        "plt.gca().yaxis.set_major_formatter(plt.FuncFormatter(lambda x, _: f\"{int(x):,}\"))\n",
        "\n",
        "# Customize chart appearance\n",
        "plt.title('Severity Level Distribution of Cases', fontsize=14, fontweight='bold')\n",
        "plt.xlabel('Severity Level', fontsize=12)\n",
        "plt.ylabel('Number of Cases', fontsize=12)\n",
        "plt.xticks(fontsize=10)\n",
        "plt.yticks(fontsize=10)\n",
        "plt.grid(axis='y', linestyle='--', alpha=0.6)\n",
        "plt.tight_layout()\n",
        "plt.show()"
      ],
      "metadata": {
        "colab": {
          "base_uri": "https://localhost:8080/",
          "height": 607
        },
        "id": "e-GaQ37eq-0G",
        "outputId": "31b673f6-3d4f-4ca1-9130-c0b565b46a9f"
      },
      "execution_count": null,
      "outputs": [
        {
          "output_type": "display_data",
          "data": {
            "text/plain": [
              "<Figure size 800x600 with 1 Axes>"
            ],
            "image/png": "[encoded data removed]"
          },
          "metadata": {}
        }
      ]
    },
    {
      "cell_type": "code",
      "source": [
        "# Extract the month names from the 'Start_Time' column, count occurrences, and sort by month order\n",
        "incident_counts_by_month = data['Start_Time'].dt.month_name().value_counts().sort_index()\n",
        "# Extract the year from the 'Start_Time' column, count occurrences, and sort in ascending order\n",
        "incident_counts_by_year = data['Start_Time'].dt.year.value_counts().sort_index()\n",
        "print(incident_counts_by_month)\n",
        "print(incident_counts_by_year)\n"
      ],
      "metadata": {
        "colab": {
          "base_uri": "https://localhost:8080/"
        },
        "id": "RsD5xGBOr8mS",
        "outputId": "672c8d93-5ca5-48de-f275-0454e1c9ae64"
      },
      "execution_count": null,
      "outputs": [
        {
          "output_type": "stream",
          "name": "stdout",
          "text": [
            "Start_Time\n",
            "April        5979\n",
            "August       5958\n",
            "December     8634\n",
            "February     6615\n",
            "January      7532\n",
            "July         5033\n",
            "June         5653\n",
            "March        5440\n",
            "May          5620\n",
            "November     7536\n",
            "October      6889\n",
            "September    6395\n",
            "Name: count, dtype: int64\n",
            "Start_Time\n",
            "2016     4148\n",
            "2017     7198\n",
            "2018     8876\n",
            "2019     9412\n",
            "2020    11750\n",
            "2021    15781\n",
            "2022    17695\n",
            "2023     2424\n",
            "Name: count, dtype: int64\n"
          ]
        }
      ]
    },
    {
      "cell_type": "code",
      "source": [
        "# Import necessary libraries for visualization\n",
        "import matplotlib.pyplot as plt\n",
        "import matplotlib.ticker as ticker\n",
        "\n",
        "# Create a new figure with a specified size\n",
        "plt.figure(figsize=(10, 6))\n",
        "\n",
        "# Create a bar chart using month names as labels and their corresponding incident counts\n",
        "plt.bar(incident_counts_by_month.index, incident_counts_by_month.values, color='skyblue')\n",
        "\n",
        "# Set the title and labels for the plot\n",
        "plt.title('Incidents Reported Each Month', fontsize=14)  # Title of the plot\n",
        "plt.xlabel('Month', fontsize=12)  # Label for the x-axis\n",
        "plt.ylabel('Incident Count', fontsize=12)  # Label for the y-axis\n",
        "\n",
        "# Rotate x-axis labels for better readability\n",
        "plt.xticks(rotation=90)\n",
        "\n",
        "# Format the y-axis to display large numbers with commas\n",
        "plt.gca().yaxis.set_major_formatter(ticker.FuncFormatter(lambda x, _: f'{x:,.0f}'))\n",
        "\n",
        "# Display the plot\n",
        "plt.show()\n"
      ],
      "metadata": {
        "colab": {
          "base_uri": "https://localhost:8080/",
          "height": 632
        },
        "id": "U_TN0D-PuT-N",
        "outputId": "dadd0e45-e8df-4ad6-cbdd-bbfa2391f28a"
      },
      "execution_count": null,
      "outputs": [
        {
          "output_type": "display_data",
          "data": {
            "text/plain": [
              "<Figure size 1000x600 with 1 Axes>"
            ],
            "image/png": "[encoded data removed]"
          },
          "metadata": {}
        }
      ]
    },
    {
      "cell_type": "code",
      "source": [
        "# Create a new figure with a specified size (10 inches wide, 6 inches tall)\n",
        "plt.figure(figsize=(10, 6))\n",
        "\n",
        "# Generate a bar chart for the number of incidents per year\n",
        "# The x-axis represents the years, and the y-axis represents the count of incidents\n",
        "plt.bar(incident_counts_by_year.index, incident_counts_by_year.values, color='royalblue')\n",
        "\n",
        "# Set the title and labels for the plot\n",
        "plt.title('Annual Incident Trends', fontsize=14)\n",
        "plt.xlabel('Year', fontsize=12)\n",
        "plt.ylabel('Incident Count', fontsize=12)\n",
        "\n",
        "# Format the y-axis to display large numbers with commas\n",
        "plt.gca().yaxis.set_major_formatter(ticker.FuncFormatter(lambda x, _: f'{x:,.0f}'))\n",
        "\n",
        "# Display the plot\n",
        "plt.show()\n"
      ],
      "metadata": {
        "colab": {
          "base_uri": "https://localhost:8080/",
          "height": 569
        },
        "id": "NmoXvTN1uVcf",
        "outputId": "4be83b2d-118e-431a-c47d-508e68e1f165"
      },
      "execution_count": null,
      "outputs": [
        {
          "output_type": "display_data",
          "data": {
            "text/plain": [
              "<Figure size 1000x600 with 1 Axes>"
            ],
            "image/png": "[encoded data removed]"
          },
          "metadata": {}
        }
      ]
    },
    {
      "cell_type": "code",
      "source": [
        "\n",
        "# Select only numerical columns\n",
        "numeric_data = data.select_dtypes(include=['number'])  # Keeps only numeric columns\n",
        "\n",
        "# Compute the correlation matrix for the numerical dataset\n",
        "correlation_matrix = numeric_data.corr()\n",
        "\n",
        "# Set the figure size for better readability\n",
        "plt.figure(figsize=(10, 6))\n",
        "\n",
        "# Create a heatmap using seaborn\n",
        "sns.heatmap(correlation_matrix, annot=True, cmap=\"coolwarm\", fmt=\".2f\", linewidths=0.5)\n",
        "\n",
        "# Add a title for better understanding\n",
        "plt.title(\"Feature Correlation Heatmap\")\n",
        "\n",
        "# Show the heatmap\n",
        "plt.show()\n"
      ],
      "metadata": {
        "colab": {
          "base_uri": "https://localhost:8080/",
          "height": 658
        },
        "id": "9F-iVH1Fqov0",
        "outputId": "a210c11e-781b-4e3e-ec48-b24cea06aa14"
      },
      "execution_count": null,
      "outputs": [
        {
          "output_type": "display_data",
          "data": {
            "text/plain": [
              "<Figure size 1000x600 with 2 Axes>"
            ],
            "image/png": "[encoded data removed]"
          },
          "metadata": {}
        }
      ]
    },
    {
      "cell_type": "code",
      "source": [
        "#Import necessary libraries\n",
        "from sklearn.model_selection import train_test_split\n",
        "from sklearn.preprocessing import LabelEncoder, StandardScaler\n",
        "from sklearn.impute import SimpleImputer\n",
        "from sklearn.ensemble import RandomForestClassifier\n",
        "from sklearn.metrics import accuracy_score, precision_score, recall_score, f1_score, classification_report"
      ],
      "metadata": {
        "id": "CZw4OZkcl34h"
      },
      "execution_count": null,
      "outputs": []
    },
    {
      "cell_type": "code",
      "source": [
        "data['Hour'] = data['Start_Time'].dt.hour\n",
        "data['Day'] = data['Start_Time'].dt.day\n",
        "data['Month'] = data['Start_Time'].dt.month\n",
        "data['Year'] = data['Start_Time'].dt.year\n",
        "data['Weekday'] = data['Start_Time'].dt.weekday\n"
      ],
      "metadata": {
        "id": "SWlJhfi-gY7l"
      },
      "execution_count": null,
      "outputs": []
    },
    {
      "cell_type": "code",
      "source": [
        "data['Severity_Bin'] = pd.cut(data['Severity'], bins=[0,2,4], labels=['Low','High'])"
      ],
      "metadata": {
        "id": "SOb8kEAognyn"
      },
      "execution_count": null,
      "outputs": []
    },
    {
      "cell_type": "code",
      "source": [
        "from sklearn.model_selection import train_test_split\n",
        "\n",
        "# Define the features (independent variables) to be used for prediction\n",
        "features = ['Temperature(F)', 'Humidity(%)', 'Visibility(mi)', 'Precipitation(in)', 'Wind_Speed(mph)', 'Hour', 'Day', 'Month', 'Year', 'Weekday']\n",
        "target = 'Severity'\n",
        "\n",
        "# Extract the feature matrix (X) and target variable (y) from the dataset\n",
        "X = data[features]\n",
        "y = data[target]\n",
        "# Split the dataset into training and testing sets\n",
        "X_train, X_test, y_train, y_test = train_test_split(X, y, test_size=0.2, random_state=42)\n"
      ],
      "metadata": {
        "id": "s6tZ2Eu_gQY_"
      },
      "execution_count": null,
      "outputs": []
    },
    {
      "cell_type": "code",
      "source": [
        "from sklearn.svm import SVC\n",
        "from sklearn.metrics import accuracy_score, precision_score, recall_score, f1_score, classification_report\n",
        "\n",
        "# Initialize SVM model\n",
        "svm_model = SVC(kernel='rbf', random_state=42)\n",
        "\n",
        "# Train the model on training data\n",
        "svm_model.fit(X_train, y_train)\n",
        "\n",
        "# Predict on test set\n",
        "y_pred_svm = svm_model.predict(X_test)\n",
        "\n",
        "# Calculate Metrics\n",
        "accuracy = accuracy_score(y_test, y_pred_svm)\n",
        "precision = precision_score(y_test, y_pred_svm, average=\"weighted\")\n",
        "recall = recall_score(y_test, y_pred_svm, average=\"weighted\")\n",
        "f1 = f1_score(y_test, y_pred_svm, average=\"weighted\")\n",
        "\n",
        "# Display Results\n",
        "print(f\"Accuracy: {accuracy:.4f}\")\n",
        "print(f\"Precision: {precision:.4f}\")\n",
        "print(f\"Recall: {recall:.4f}\")\n",
        "print(f\"F1 Score: {f1:.4f}\")\n",
        "print(\"\\nClassification Report:\\n\", classification_report(y_test, y_pred_svm))\n",
        "\n"
      ],
      "metadata": {
        "colab": {
          "base_uri": "https://localhost:8080/"
        },
        "id": "amlAtIV6w364",
        "outputId": "9521cb0e-0717-4d9a-85ef-ab6a51d07002"
      },
      "execution_count": null,
      "outputs": [
        {
          "output_type": "stream",
          "name": "stdout",
          "text": [
            "Accuracy: 0.7956\n",
            "Precision: 0.6329\n",
            "Recall: 0.7956\n",
            "F1 Score: 0.7050\n",
            "\n",
            "Classification Report:\n",
            "               precision    recall  f1-score   support\n",
            "\n",
            "          -2       0.00      0.00      0.00       137\n",
            "          -1       0.80      1.00      0.89     12297\n",
            "           0       0.00      0.00      0.00      2642\n",
            "           1       0.00      0.00      0.00       381\n",
            "\n",
            "    accuracy                           0.80     15457\n",
            "   macro avg       0.20      0.25      0.22     15457\n",
            "weighted avg       0.63      0.80      0.70     15457\n",
            "\n",
            "SVM Accuracy: 79.6\n"
          ]
        }
      ]
    },
    {
      "cell_type": "code",
      "source": [
        "# Import Random Forest model\n",
        "from sklearn.ensemble import RandomForestClassifier\n",
        "\n",
        "# Import evaluation metrics\n",
        "from sklearn.metrics import accuracy_score, precision_score, recall_score, f1_score, classification_report\n",
        "\n",
        "# Initialize the Random Forest model\n",
        "model = RandomForestClassifier(n_estimators=100, random_state=42)\n",
        "\n",
        "# Train (fit) the model using the training data\n",
        "model.fit(X_train, y_train)\n",
        "\n",
        "# Predict on the test set\n",
        "y_pred = model.predict(X_test)\n",
        "\n",
        "# Calculate evaluation metrics\n",
        "accuracy = accuracy_score(y_test, y_pred)\n",
        "precision = precision_score(y_test, y_pred, average=\"weighted\")\n",
        "recall = recall_score(y_test, y_pred, average=\"weighted\")\n",
        "f1 = f1_score(y_test, y_pred, average=\"weighted\")\n",
        "\n",
        "# Display results\n",
        "print(f\"Accuracy: {accuracy:.4f}\")\n",
        "print(f\"Precision: {precision:.4f}\")\n",
        "print(f\"Recall: {recall:.4f}\")\n",
        "print(f\"F1 Score: {f1:.4f}\")\n",
        "\n",
        "# Print detailed classification report\n",
        "print(\"\\nClassification Report:\\n\", classification_report(y_test, y_pred))\n"
      ],
      "metadata": {
        "colab": {
          "base_uri": "https://localhost:8080/"
        },
        "id": "j4NijWcjqFOB",
        "outputId": "fc56dcb5-c600-4d90-fcc3-97afa8e32e43"
      },
      "execution_count": null,
      "outputs": [
        {
          "output_type": "stream",
          "name": "stdout",
          "text": [
            "Accuracy: 0.7914\n",
            "Precision: 0.7206\n",
            "Recall: 0.7914\n",
            "F1 Score: 0.7296\n",
            "\n",
            "Classification Report:\n",
            "               precision    recall  f1-score   support\n",
            "\n",
            "           1       0.31      0.04      0.07       137\n",
            "           2       0.81      0.97      0.88     12297\n",
            "           3       0.43      0.10      0.16      2642\n",
            "           4       0.09      0.00      0.01       381\n",
            "\n",
            "    accuracy                           0.79     15457\n",
            "   macro avg       0.41      0.28      0.28     15457\n",
            "weighted avg       0.72      0.79      0.73     15457\n",
            "\n"
          ]
        }
      ]
    },
    {
      "cell_type": "code",
      "source": [
        "# Shift class labels to start from 0\n",
        "y_train_shifted = y_train - y_train.min()\n",
        "y_test_shifted = y_test - y_test.min()\n",
        "\n",
        "# Verify new class labels\n",
        "print(\"Unique classes in y_train:\", np.unique(y_train_shifted))\n",
        "print(\"Unique classes in y_test:\", np.unique(y_test_shifted))\n"
      ],
      "metadata": {
        "colab": {
          "base_uri": "https://localhost:8080/"
        },
        "id": "gdQrAcjK3U07",
        "outputId": "168fb49a-7824-43d3-e39d-4fc21e72835a"
      },
      "execution_count": null,
      "outputs": [
        {
          "output_type": "stream",
          "name": "stdout",
          "text": [
            "Unique classes in y_train: [0 1 2 3]\n",
            "Unique classes in y_test: [0 1 2 3]\n"
          ]
        }
      ]
    },
    {
      "cell_type": "code",
      "source": [
        "from xgboost import XGBClassifier\n",
        "\n",
        "# Initialize the XGBoost classifier\n",
        "xgb = XGBClassifier(use_label_encoder=False, eval_metric='mlogloss', random_state=42)\n",
        "\n",
        "# Train the model on shifted labels\n",
        "xgb.fit(X_train, y_train_shifted)\n",
        "\n",
        "# Predict using shifted labels\n",
        "y_pred_xgb = xgb.predict(X_test)\n",
        "\n",
        "# Convert predictions back to original labels\n",
        "y_pred_xgb_original = y_pred_xgb + y_train.min()\n",
        "\n",
        "# Print results\n",
        "from sklearn.metrics import accuracy_score, classification_report\n",
        "\n",
        "print(\"XGBoost Accuracy:\", round(accuracy_score(y_test, y_pred_xgb_original) * 100, 2))\n",
        "\n",
        "# Display results\n",
        "print(f\"Accuracy: {accuracy:.4f}\")\n",
        "print(f\"Precision: {precision:.4f}\")\n",
        "print(f\"Recall: {recall:.4f}\")\n",
        "print(f\"F1 Score: {f1:.4f}\")\n",
        "print(\"\\nClassification Report:\\n\", classification_report(y_test, y_pred_xgb_original))\n"
      ],
      "metadata": {
        "colab": {
          "base_uri": "https://localhost:8080/"
        },
        "id": "BSLxvpDU3WkQ",
        "outputId": "158c4d13-b290-4dd8-e86c-f0c074b929a8"
      },
      "execution_count": null,
      "outputs": [
        {
          "output_type": "stream",
          "name": "stdout",
          "text": [
            "XGBoost Accuracy: 79.6\n",
            "Accuracy: 0.7956\n",
            "Precision: 0.6329\n",
            "Recall: 0.7956\n",
            "F1 Score: 0.7050\n",
            "\n",
            "Classification Report:\n",
            "               precision    recall  f1-score   support\n",
            "\n",
            "          -2       0.46      0.04      0.08       137\n",
            "          -1       0.81      0.98      0.89     12297\n",
            "           0       0.48      0.08      0.14      2642\n",
            "           1       0.14      0.00      0.01       381\n",
            "\n",
            "    accuracy                           0.80     15457\n",
            "   macro avg       0.47      0.28      0.28     15457\n",
            "weighted avg       0.73      0.80      0.73     15457\n",
            "\n"
          ]
        }
      ]
    }
  ]
}